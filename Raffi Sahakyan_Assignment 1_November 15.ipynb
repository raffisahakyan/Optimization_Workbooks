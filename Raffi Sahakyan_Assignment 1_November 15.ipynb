{
 "cells": [
  {
   "cell_type": "markdown",
   "metadata": {},
   "source": [
    "## <center> Operating Room Scheduling-Assignment 1\n",
    "#### <center>Author: Raffi Sahakyan\n",
    "##### <center>Class: 19F-MGMTMSA403-1 Optimization\n",
    "##### <center>Date: 15 Nov, 2019"
   ]
  },
  {
   "cell_type": "markdown",
   "metadata": {},
   "source": [
    "<hr style=\"height:2px; border:none; color:#000; background-color:#000;\">"
   ]
  },
  {
   "cell_type": "code",
   "execution_count": 245,
   "metadata": {},
   "outputs": [],
   "source": [
    "#Importing Gurobi and other necessary functions\n",
    "from gurobipy import *\n",
    "import pandas as pd\n",
    "\n",
    "#Defining Optimize and Update Function for Code Efficiency\n",
    "def grb_optimize():\n",
    "    mod.update()\n",
    "    mod.optimize()"
   ]
  },
  {
   "cell_type": "markdown",
   "metadata": {},
   "source": [
    "#### <center>Question a) - Part1 Optimization Model</center>"
   ]
  },
  {
   "cell_type": "markdown",
   "metadata": {},
   "source": [
    "$$ {Objective\\:Function} $$\n",
    "<br>\n",
    "$$\\min_{i} \\sum_{i=1}^{dep} \\frac{S_i}{T_i}$$\n",
    "<br>\n",
    "$$ {Constraints} $$\n",
    "<br>\n",
    "$$s. t. \\sum_{ijk=1}^{dep~room~day}=1$$\n",
    "<br>\n",
    "$$S_i\\geq{0}$$\n",
    "<br>\n",
    "$$S_i\\geq{} \\sum_{jk=1}^{room~day} \\sum_{ijk=1}^{dep~room~day}d_{jk} X_{ijk}-T_i$$\n",
    "<br>\n",
    "$$ {Decision\\:Variables} $$\n",
    "<br>\n",
    "$$ S \\: {Underallocation\\:for\\:department} $$\n",
    "<br>\n",
    "\\begin{align}\n",
    "\\ x_{ijk} \\in \\{0,1\\} \\quad {i} = 1,\\ldots,6 \\quad {j} = 1,\\ldots,5. \\quad {k} = 1,\\ldots,5 {\\:3D\\:Binary\\:Matrix\\:for\\:location\\:filling\\:on\\:dep\\:,\\:room\\:,day}\n",
    "\\end{align}\n",
    "<br>"
   ]
  },
  {
   "cell_type": "markdown",
   "metadata": {},
   "source": [
    "#### <center>Question a) - Part 2 Python Code</center>"
   ]
  },
  {
   "cell_type": "code",
   "execution_count": 246,
   "metadata": {},
   "outputs": [],
   "source": [
    "#Initializing the model\n",
    "mod = Model()\n",
    "\n",
    "#Variables\n",
    "departments = 6 #i in the assignment\n",
    "rooms = 5 #j in the assignment\n",
    "days = 5 #k in the assignment\n",
    "\n",
    "availability = [[9,9,9,9,7.5], [9,9,9,9,7.5],[9,9,9,9,7.5],[9,9,9,9,7.5],[9,8,8,8,6.5]] #Letter d in formulae\n",
    "target = [213.5*.484,213.5*.042,213.5*.253,213.5*.074,213.5*.053,213.5*.095] #Letter T in formulae\n",
    "\n",
    "# Define decision variables\n",
    "S = mod.addVars(departments) #underallocation\n",
    "X = mod.addVars(departments,rooms,days,vtype = GRB.BINARY) #3d binary matrix for the assignment of department for room in day"
   ]
  },
  {
   "cell_type": "code",
   "execution_count": 247,
   "metadata": {},
   "outputs": [
    {
     "name": "stdout",
     "output_type": "stream",
     "text": [
      "Optimize a model with 37 rows, 156 columns and 312 nonzeros\n",
      "Variable types: 6 continuous, 150 integer (150 binary)\n",
      "Coefficient statistics:\n",
      "  Matrix range     [1e+00, 9e+00]\n",
      "  Objective range  [1e-02, 1e-01]\n",
      "  Bounds range     [1e+00, 1e+00]\n",
      "  RHS range        [1e+00, 1e+02]\n",
      "Found heuristic solution: objective 0.9575804\n",
      "Presolve removed 6 rows and 0 columns\n",
      "Presolve time: 0.00s\n",
      "Presolved: 31 rows, 156 columns, 306 nonzeros\n",
      "Variable types: 6 continuous, 150 integer (150 binary)\n",
      "\n",
      "Root relaxation: objective 2.066116e-03, 58 iterations, 0.00 seconds\n",
      "\n",
      "    Nodes    |    Current Node    |     Objective Bounds      |     Work\n",
      " Expl Unexpl |  Obj  Depth IntInf | Incumbent    BestBd   Gap | It/Node Time\n",
      "\n",
      "     0     0    0.00207    0    7    0.95758    0.00207   100%     -    0s\n",
      "H    0     0                       0.3238502    0.00207  99.4%     -    0s\n",
      "     0     0    0.02632    0   10    0.32385    0.02632  91.9%     -    0s\n",
      "H    0     0                       0.2306614    0.02632  88.6%     -    0s\n",
      "H    0     0                       0.1122843    0.02632  76.6%     -    0s\n",
      "     0     0    0.05177    0    8    0.11228    0.05177  53.9%     -    0s\n",
      "H    0     0                       0.0705692    0.05177  26.6%     -    0s\n",
      "H    0     0                       0.0607418    0.05177  14.8%     -    0s\n",
      "*    0     0               0       0.0519060    0.05191  0.00%     -    0s\n",
      "\n",
      "Cutting planes:\n",
      "  Cover: 2\n",
      "  MIR: 8\n",
      "\n",
      "Explored 1 nodes (159 simplex iterations) in 0.08 seconds\n",
      "Thread count was 4 (of 4 available processors)\n",
      "\n",
      "Solution count 7: 0.051906 0.0607418 0.0705692 ... 0.95758\n",
      "\n",
      "Optimal solution found (tolerance 1.00e-04)\n",
      "Best objective 5.190597648318e-02, best bound 5.190597648318e-02, gap 0.0000%\n"
     ]
    }
   ],
   "source": [
    "# Constraints\n",
    "for room in range(rooms):\n",
    "    for day in range(days):\n",
    "        mod.addConstr(sum(X[department,room,day] for department in range(departments))==1)\n",
    "        \n",
    "for department in range(departments):\n",
    "    mod.addConstr(S[department]>=target[department]-sum(availability[room][day]*X[department,room,day] for room in range(rooms) for day in range(days)))\n",
    "\n",
    "for department in range(departments):\n",
    "    mod.addConstr(S[department]>=0)        \n",
    "\n",
    "#Setting Objective\n",
    "mod.setObjective(sum(S[department]/target[department] for department in range(departments)), GRB.MINIMIZE)\n",
    "\n",
    "#Calling optimize function\n",
    "grb_optimize()"
   ]
  },
  {
   "cell_type": "markdown",
   "metadata": {},
   "source": [
    "#### <center>Question a) - Part 3 Optimal Value Obtained</center>"
   ]
  },
  {
   "cell_type": "code",
   "execution_count": 248,
   "metadata": {},
   "outputs": [
    {
     "name": "stdout",
     "output_type": "stream",
     "text": [
      "Optimal value obtained at an optimal solution is 0.0519\n"
     ]
    }
   ],
   "source": [
    "print(\"Optimal value obtained at an optimal solution is\",round(mod.objval,4))"
   ]
  },
  {
   "cell_type": "markdown",
   "metadata": {},
   "source": [
    "#### <center>Question a) - Part 4 Schedule</center>"
   ]
  },
  {
   "cell_type": "code",
   "execution_count": 249,
   "metadata": {},
   "outputs": [
    {
     "data": {
      "text/html": [
       "<div>\n",
       "<style scoped>\n",
       "    .dataframe tbody tr th:only-of-type {\n",
       "        vertical-align: middle;\n",
       "    }\n",
       "\n",
       "    .dataframe tbody tr th {\n",
       "        vertical-align: top;\n",
       "    }\n",
       "\n",
       "    .dataframe thead th {\n",
       "        text-align: right;\n",
       "    }\n",
       "</style>\n",
       "<table border=\"1\" class=\"dataframe\">\n",
       "  <thead>\n",
       "    <tr style=\"text-align: right;\">\n",
       "      <th></th>\n",
       "      <th>Main-1</th>\n",
       "      <th>Main-2</th>\n",
       "      <th>Main-3</th>\n",
       "      <th>Main-4</th>\n",
       "      <th>Main-5</th>\n",
       "    </tr>\n",
       "  </thead>\n",
       "  <tbody>\n",
       "    <tr>\n",
       "      <td>Monday</td>\n",
       "      <td>General Surgery</td>\n",
       "      <td>General Surgery</td>\n",
       "      <td>Neurosurgery</td>\n",
       "      <td>Neurosurgery</td>\n",
       "      <td>Neurosurgery</td>\n",
       "    </tr>\n",
       "    <tr>\n",
       "      <td>Tuesday</td>\n",
       "      <td>General Surgery</td>\n",
       "      <td>Emergency</td>\n",
       "      <td>Neurosurgery</td>\n",
       "      <td>Neurosurgery</td>\n",
       "      <td>Opthamology</td>\n",
       "    </tr>\n",
       "    <tr>\n",
       "      <td>Wednesday</td>\n",
       "      <td>Neurosurgery</td>\n",
       "      <td>General Surgery</td>\n",
       "      <td>General Surgery</td>\n",
       "      <td>General Surgery</td>\n",
       "      <td>Opthamology</td>\n",
       "    </tr>\n",
       "    <tr>\n",
       "      <td>Thursday</td>\n",
       "      <td>General Surgery</td>\n",
       "      <td>General Surgery</td>\n",
       "      <td>General Surgery</td>\n",
       "      <td>General Surgery</td>\n",
       "      <td>General Surgery</td>\n",
       "    </tr>\n",
       "    <tr>\n",
       "      <td>Friday</td>\n",
       "      <td>Oral Surgery</td>\n",
       "      <td>Otolaryngology</td>\n",
       "      <td>Oral Surgery</td>\n",
       "      <td>Otolaryngology</td>\n",
       "      <td>Otolaryngology</td>\n",
       "    </tr>\n",
       "  </tbody>\n",
       "</table>\n",
       "</div>"
      ],
      "text/plain": [
       "                    Main-1           Main-2           Main-3           Main-4  \\\n",
       "Monday     General Surgery  General Surgery     Neurosurgery     Neurosurgery   \n",
       "Tuesday    General Surgery        Emergency     Neurosurgery     Neurosurgery   \n",
       "Wednesday     Neurosurgery  General Surgery  General Surgery  General Surgery   \n",
       "Thursday   General Surgery  General Surgery  General Surgery  General Surgery   \n",
       "Friday        Oral Surgery   Otolaryngology     Oral Surgery   Otolaryngology   \n",
       "\n",
       "                    Main-5  \n",
       "Monday        Neurosurgery  \n",
       "Tuesday        Opthamology  \n",
       "Wednesday      Opthamology  \n",
       "Thursday   General Surgery  \n",
       "Friday      Otolaryngology  "
      ]
     },
     "execution_count": 249,
     "metadata": {},
     "output_type": "execute_result"
    }
   ],
   "source": [
    "#Entries for schedule\n",
    "Departments = ['General Surgery','Emergency','Neurosurgery','Opthamology','Oral Surgery','Otolaryngology']\n",
    "Weekdays = ['Monday','Tuesday','Wednesday','Thursday','Friday']\n",
    "Rooms = ['Main-1','Main-2','Main-3','Main-4','Main-5']\n",
    "schedule_df = pd.DataFrame(columns=Rooms,index=Weekdays)\n",
    "\n",
    "#Defining Function for Schedule\n",
    "def schedule_func():\n",
    "    for index_d, department in enumerate(Departments):\n",
    "        for index_r, room in enumerate(Rooms):\n",
    "            for index_w, day in enumerate(Weekdays):\n",
    "                if X[index_d,index_r,index_w].X == abs(1.0):\n",
    "                    schedule_df[room][day] = department\n",
    "    return (schedule_df)\n",
    "\n",
    "schedule_func()"
   ]
  },
  {
   "cell_type": "markdown",
   "metadata": {},
   "source": [
    "<hr style=\"height:2px; border:none; color:#000; background-color:#000;\">"
   ]
  },
  {
   "cell_type": "markdown",
   "metadata": {},
   "source": [
    "#### <center>Question b) - Part 1 Optimization Model</center>"
   ]
  },
  {
   "cell_type": "markdown",
   "metadata": {},
   "source": [
    "$$ {Objective~Function} $$\n",
    "<br>\n",
    "$$\\min_{i} \\sum_{i=1}^{dep} \\frac{S_i}{T_i}$$\n",
    "<br>\n",
    "$$ {Constraints} $$\n",
    "<br>\n",
    "$$s. t.\\sum_{i,j,k=1}^{dep~room~day}=1$$\n",
    "<br>\n",
    "$$S_i\\geq{0}$$\n",
    "<br>\n",
    "$$S_i\\geq{} \\sum_{j,k=1}^{room~day} \\sum_{i,j,k=1}^{dep~room~day}d_{jk} X_{ijk}-T_i $$\n",
    "<br>\n",
    "$$\\sum_{i,k=1}^{dep~day}{|}SC_{ik+1}-SC_{ik}{|} \\leq{} 4 {\\:Linearized\\:in\\:Code} $$ \n",
    "<br>\n",
    "$$ {Decision~Variables} $$\n",
    "<br>\n",
    "$$ S \\: {Underallocation\\:for\\:department} $$\n",
    "<br>\n",
    "\\begin{align}\n",
    "\\ x_{ijk} \\in \\{0,1\\} \\quad {i} = 1,\\ldots,6 \\quad {j} = 1,\\ldots,5 \\quad {k} = 1,\\ldots,5.\n",
    "\\end{align}\n",
    "<br>\n",
    "\\begin{align}\n",
    "\\ SC_{ik} \\in \\{0,1\\} \\quad {i} = 1,\\ldots,6 \\quad {k} = 1,\\ldots,5. {\\:Switching\\:Cost\\:Variable}\n",
    "\\end{align}"
   ]
  },
  {
   "cell_type": "markdown",
   "metadata": {},
   "source": [
    "#### <center>Question b) - Part 2 Python Code</center>"
   ]
  },
  {
   "cell_type": "code",
   "execution_count": 250,
   "metadata": {},
   "outputs": [
    {
     "name": "stdout",
     "output_type": "stream",
     "text": [
      "Optimize a model with 49 rows, 186 columns and 348 nonzeros\n",
      "Variable types: 6 continuous, 180 integer (180 binary)\n",
      "Coefficient statistics:\n",
      "  Matrix range     [1e+00, 9e+00]\n",
      "  Objective range  [1e-02, 1e-01]\n",
      "  Bounds range     [1e+00, 1e+00]\n",
      "  RHS range        [1e+00, 1e+02]\n",
      "\n",
      "MIP start produced solution with objective 0.051906 (0.01s)\n",
      "Loaded MIP start with objective 0.051906\n",
      "\n",
      "Presolve removed 18 rows and 30 columns\n",
      "Presolve time: 0.00s\n",
      "Presolved: 31 rows, 156 columns, 306 nonzeros\n",
      "Variable types: 6 continuous, 150 integer (150 binary)\n",
      "\n",
      "Root relaxation: objective 2.066116e-03, 58 iterations, 0.00 seconds\n",
      "\n",
      "    Nodes    |    Current Node    |     Objective Bounds      |     Work\n",
      " Expl Unexpl |  Obj  Depth IntInf | Incumbent    BestBd   Gap | It/Node Time\n",
      "\n",
      "     0     0    0.00207    0    7    0.05191    0.00207  96.0%     -    0s\n",
      "     0     0    0.05148    0    3    0.05191    0.05148  0.81%     -    0s\n",
      "     0     0    0.05177    0    2    0.05191    0.05177  0.26%     -    0s\n",
      "     0     0     cutoff    0         0.05191    0.05191  0.00%     -    0s\n",
      "\n",
      "Cutting planes:\n",
      "  Cover: 4\n",
      "  MIR: 1\n",
      "  StrongCG: 1\n",
      "\n",
      "Explored 1 nodes (146 simplex iterations) in 0.07 seconds\n",
      "Thread count was 4 (of 4 available processors)\n",
      "\n",
      "Solution count 1: 0.051906 \n",
      "\n",
      "Optimal solution found (tolerance 1.00e-04)\n",
      "Best objective 5.190597648318e-02, best bound 5.190597648318e-02, gap 0.0000%\n"
     ]
    }
   ],
   "source": [
    "#Additional Decision Variable for part b\n",
    "SC = mod.addVars(departments, days,vtype = GRB.BINARY) #SwithcingCost Variable\n",
    "\n",
    "#Additional Constraints for part b - linearized\n",
    "for department in range(departments):\n",
    "    mod.addConstr(sum(SC[department, day] for day in range(day - 1)) <= 4)\n",
    "\n",
    "for department in range(departments):\n",
    "    mod.addConstr(sum(SC[department, day] for day in range(day - 1)) >= -4)\n",
    "\n",
    "#Updating and Optimizing\n",
    "grb_optimize()"
   ]
  },
  {
   "cell_type": "markdown",
   "metadata": {},
   "source": [
    "#### <center>Question b) - Part 3 Optimal Value Obtained</center>"
   ]
  },
  {
   "cell_type": "code",
   "execution_count": 251,
   "metadata": {},
   "outputs": [
    {
     "name": "stdout",
     "output_type": "stream",
     "text": [
      "Optimal value obtained at an optimal solution is 0.0519\n"
     ]
    }
   ],
   "source": [
    "print(\"Optimal value obtained at an optimal solution is\",round(mod.objval,4))"
   ]
  },
  {
   "cell_type": "markdown",
   "metadata": {},
   "source": [
    "#### <center>Question b) - Part 4 Schedule</center>"
   ]
  },
  {
   "cell_type": "code",
   "execution_count": 252,
   "metadata": {},
   "outputs": [
    {
     "data": {
      "text/html": [
       "<div>\n",
       "<style scoped>\n",
       "    .dataframe tbody tr th:only-of-type {\n",
       "        vertical-align: middle;\n",
       "    }\n",
       "\n",
       "    .dataframe tbody tr th {\n",
       "        vertical-align: top;\n",
       "    }\n",
       "\n",
       "    .dataframe thead th {\n",
       "        text-align: right;\n",
       "    }\n",
       "</style>\n",
       "<table border=\"1\" class=\"dataframe\">\n",
       "  <thead>\n",
       "    <tr style=\"text-align: right;\">\n",
       "      <th></th>\n",
       "      <th>Main-1</th>\n",
       "      <th>Main-2</th>\n",
       "      <th>Main-3</th>\n",
       "      <th>Main-4</th>\n",
       "      <th>Main-5</th>\n",
       "    </tr>\n",
       "  </thead>\n",
       "  <tbody>\n",
       "    <tr>\n",
       "      <td>Monday</td>\n",
       "      <td>General Surgery</td>\n",
       "      <td>General Surgery</td>\n",
       "      <td>Neurosurgery</td>\n",
       "      <td>Neurosurgery</td>\n",
       "      <td>Neurosurgery</td>\n",
       "    </tr>\n",
       "    <tr>\n",
       "      <td>Tuesday</td>\n",
       "      <td>General Surgery</td>\n",
       "      <td>Emergency</td>\n",
       "      <td>Neurosurgery</td>\n",
       "      <td>Neurosurgery</td>\n",
       "      <td>Opthamology</td>\n",
       "    </tr>\n",
       "    <tr>\n",
       "      <td>Wednesday</td>\n",
       "      <td>Neurosurgery</td>\n",
       "      <td>General Surgery</td>\n",
       "      <td>General Surgery</td>\n",
       "      <td>General Surgery</td>\n",
       "      <td>Opthamology</td>\n",
       "    </tr>\n",
       "    <tr>\n",
       "      <td>Thursday</td>\n",
       "      <td>General Surgery</td>\n",
       "      <td>General Surgery</td>\n",
       "      <td>General Surgery</td>\n",
       "      <td>General Surgery</td>\n",
       "      <td>General Surgery</td>\n",
       "    </tr>\n",
       "    <tr>\n",
       "      <td>Friday</td>\n",
       "      <td>Oral Surgery</td>\n",
       "      <td>Otolaryngology</td>\n",
       "      <td>Oral Surgery</td>\n",
       "      <td>Otolaryngology</td>\n",
       "      <td>Otolaryngology</td>\n",
       "    </tr>\n",
       "  </tbody>\n",
       "</table>\n",
       "</div>"
      ],
      "text/plain": [
       "                    Main-1           Main-2           Main-3           Main-4  \\\n",
       "Monday     General Surgery  General Surgery     Neurosurgery     Neurosurgery   \n",
       "Tuesday    General Surgery        Emergency     Neurosurgery     Neurosurgery   \n",
       "Wednesday     Neurosurgery  General Surgery  General Surgery  General Surgery   \n",
       "Thursday   General Surgery  General Surgery  General Surgery  General Surgery   \n",
       "Friday        Oral Surgery   Otolaryngology     Oral Surgery   Otolaryngology   \n",
       "\n",
       "                    Main-5  \n",
       "Monday        Neurosurgery  \n",
       "Tuesday        Opthamology  \n",
       "Wednesday      Opthamology  \n",
       "Thursday   General Surgery  \n",
       "Friday      Otolaryngology  "
      ]
     },
     "execution_count": 252,
     "metadata": {},
     "output_type": "execute_result"
    }
   ],
   "source": [
    "schedule_func()"
   ]
  },
  {
   "cell_type": "markdown",
   "metadata": {},
   "source": [
    "<hr style=\"height:2px; border:none; color:#000; background-color:#000;\">"
   ]
  },
  {
   "cell_type": "markdown",
   "metadata": {},
   "source": [
    "#### <center>Question c) - Part 1 Optimization Model</center>"
   ]
  },
  {
   "cell_type": "markdown",
   "metadata": {},
   "source": [
    "$$ {Objective Function} $$\n",
    "<br>\n",
    "$$\\min_{i} \\sum_{i=1}^{dep} \\frac{S_i}{T_i}$$\n",
    "<br>\n",
    "$$ {Constraints} $$\n",
    "<br>\n",
    "$$s. t.\\sum_{i,j,k=1}^{dep~room~day}=1$$\n",
    "<br>\n",
    "$$S_i\\geq{0}$$\n",
    "<br>\n",
    "$$S_i\\geq{} \\sum_{j,k=1}^{room~day} \\sum_{i,j,k=1}^{dep~room~day}d_{jk} X_{ijk}-T_i$$\n",
    "<br>\n",
    "$$ X_{i,1,k} + X_{i,2,k} \\leq{} {2 *} Z_{i,1,k} $$\n",
    "<br>\n",
    "$$ X_{i,3,k} + X_{i,4,k} \\leq{} {2 *} Z_{i,2,k} $$\n",
    "<br>\n",
    "$$ X_{i,5,k}\\leq{} Z_{i,3,k} $$ <br>\n",
    "$$ \\sum_{i,f,k=1}^{dep~floor~day} \\leq{} 1 $$ \n",
    "$$ {Decision Variables} $$\n",
    "<br>\n",
    "$$ S \\: {Underallocation\\:for\\:department} $$\n",
    "<br>\n",
    "\\begin{align}\n",
    "\\ x_{ijk} \\in \\{0,1\\} \\quad {i} = 1,\\ldots,6 \\quad {j} = 1,\\ldots,5 \\quad {k} = 1,\\ldots,5.\n",
    "\\end{align}\n",
    "<br>\n",
    "\\begin{align}\n",
    "\\ Z_{ifk} \\in \\{0,1\\} \\quad {i} = 1,\\ldots,6 \\quad {f} = 1,\\ldots,3 \\quad {k} = 1,\\ldots,5.\n",
    "\\end{align}"
   ]
  },
  {
   "cell_type": "markdown",
   "metadata": {},
   "source": [
    "#### <center>Question c) - Part2 Python Code</center>"
   ]
  },
  {
   "cell_type": "code",
   "execution_count": 253,
   "metadata": {},
   "outputs": [
    {
     "name": "stdout",
     "output_type": "stream",
     "text": [
      "Optimize a model with 169 rows, 276 columns and 678 nonzeros\n",
      "Variable types: 6 continuous, 270 integer (270 binary)\n",
      "Coefficient statistics:\n",
      "  Matrix range     [1e+00, 9e+00]\n",
      "  Objective range  [1e-02, 1e-01]\n",
      "  Bounds range     [1e+00, 1e+00]\n",
      "  RHS range        [1e+00, 1e+02]\n",
      "\n",
      "MIP start did not produce a new incumbent solution\n",
      "\n",
      "Found heuristic solution: objective 1.1082105\n",
      "Presolve removed 78 rows and 90 columns\n",
      "Presolve time: 0.00s\n",
      "Presolved: 91 rows, 186 columns, 516 nonzeros\n",
      "Variable types: 6 continuous, 180 integer (180 binary)\n",
      "\n",
      "Root relaxation: objective 1.580699e-01, 72 iterations, 0.00 seconds\n",
      "\n",
      "    Nodes    |    Current Node    |     Objective Bounds      |     Work\n",
      " Expl Unexpl |  Obj  Depth IntInf | Incumbent    BestBd   Gap | It/Node Time\n",
      "\n",
      "H    0     0                       0.1580699    0.00000   100%     -    0s\n",
      "     0     0     cutoff    0         0.15807    0.15807  0.00%     -    0s\n",
      "\n",
      "Explored 0 nodes (120 simplex iterations) in 0.04 seconds\n",
      "Thread count was 4 (of 4 available processors)\n",
      "\n",
      "Solution count 2: 0.15807 1.10821 \n",
      "\n",
      "Optimal solution found (tolerance 1.00e-04)\n",
      "Best objective 1.580699479358e-01, best bound 1.580699479358e-01, gap 0.0000%\n"
     ]
    }
   ],
   "source": [
    "#Additional Variable for part c\n",
    "floors=3\n",
    "\n",
    "#Additional Decision Variable for part c\n",
    "Z = mod.addVars(departments,floors,days,vtype = GRB.BINARY)\n",
    "\n",
    "#Additional Constraints for part c\n",
    "for department in range(departments):\n",
    "    for day in range(days):\n",
    "        mod.addConstr(X[department,0,day] + X[department,1,day] <= 2 * Z[department,0,day])\n",
    "\n",
    "for department in range(departments):\n",
    "    for day in range(days):\n",
    "        mod.addConstr(X[department,2,day] + X[department,3,day] <= 2 * Z[department,1,day])\n",
    "        \n",
    "for department in range(departments):\n",
    "    for day in range(days):\n",
    "        mod.addConstr(X[department,4,day] <= Z[department,2,day])\n",
    "\n",
    "for department in range(departments):\n",
    "    for day in range(days):\n",
    "        mod.addConstr(sum(Z[department,floor,day] for floor in range(floors))<=1)\n",
    "\n",
    "#Updating and Optimizing\n",
    "grb_optimize()"
   ]
  },
  {
   "cell_type": "markdown",
   "metadata": {},
   "source": [
    "#### <center>Question c) - Part 3 Optimal Value Obtained</center>"
   ]
  },
  {
   "cell_type": "code",
   "execution_count": 254,
   "metadata": {},
   "outputs": [
    {
     "name": "stdout",
     "output_type": "stream",
     "text": [
      "Optimal value obtained at an optimal solution is 0.1581\n"
     ]
    }
   ],
   "source": [
    "print(\"Optimal value obtained at an optimal solution is\",round(mod.objval,4))"
   ]
  },
  {
   "cell_type": "markdown",
   "metadata": {},
   "source": [
    "#### <center>Question c) - Part 4 Schedule</center>"
   ]
  },
  {
   "cell_type": "code",
   "execution_count": 255,
   "metadata": {},
   "outputs": [
    {
     "data": {
      "text/html": [
       "<div>\n",
       "<style scoped>\n",
       "    .dataframe tbody tr th:only-of-type {\n",
       "        vertical-align: middle;\n",
       "    }\n",
       "\n",
       "    .dataframe tbody tr th {\n",
       "        vertical-align: top;\n",
       "    }\n",
       "\n",
       "    .dataframe thead th {\n",
       "        text-align: right;\n",
       "    }\n",
       "</style>\n",
       "<table border=\"1\" class=\"dataframe\">\n",
       "  <thead>\n",
       "    <tr style=\"text-align: right;\">\n",
       "      <th></th>\n",
       "      <th>Main-1</th>\n",
       "      <th>Main-2</th>\n",
       "      <th>Main-3</th>\n",
       "      <th>Main-4</th>\n",
       "      <th>Main-5</th>\n",
       "    </tr>\n",
       "  </thead>\n",
       "  <tbody>\n",
       "    <tr>\n",
       "      <td>Monday</td>\n",
       "      <td>Neurosurgery</td>\n",
       "      <td>Neurosurgery</td>\n",
       "      <td>General Surgery</td>\n",
       "      <td>General Surgery</td>\n",
       "      <td>Otolaryngology</td>\n",
       "    </tr>\n",
       "    <tr>\n",
       "      <td>Tuesday</td>\n",
       "      <td>Neurosurgery</td>\n",
       "      <td>Neurosurgery</td>\n",
       "      <td>General Surgery</td>\n",
       "      <td>General Surgery</td>\n",
       "      <td>Otolaryngology</td>\n",
       "    </tr>\n",
       "    <tr>\n",
       "      <td>Wednesday</td>\n",
       "      <td>General Surgery</td>\n",
       "      <td>General Surgery</td>\n",
       "      <td>Oral Surgery</td>\n",
       "      <td>Otolaryngology</td>\n",
       "      <td>Neurosurgery</td>\n",
       "    </tr>\n",
       "    <tr>\n",
       "      <td>Thursday</td>\n",
       "      <td>Opthamology</td>\n",
       "      <td>Emergency</td>\n",
       "      <td>General Surgery</td>\n",
       "      <td>General Surgery</td>\n",
       "      <td>Neurosurgery</td>\n",
       "    </tr>\n",
       "    <tr>\n",
       "      <td>Friday</td>\n",
       "      <td>Opthamology</td>\n",
       "      <td>Neurosurgery</td>\n",
       "      <td>General Surgery</td>\n",
       "      <td>General Surgery</td>\n",
       "      <td>Oral Surgery</td>\n",
       "    </tr>\n",
       "  </tbody>\n",
       "</table>\n",
       "</div>"
      ],
      "text/plain": [
       "                    Main-1           Main-2           Main-3           Main-4  \\\n",
       "Monday        Neurosurgery     Neurosurgery  General Surgery  General Surgery   \n",
       "Tuesday       Neurosurgery     Neurosurgery  General Surgery  General Surgery   \n",
       "Wednesday  General Surgery  General Surgery     Oral Surgery   Otolaryngology   \n",
       "Thursday       Opthamology        Emergency  General Surgery  General Surgery   \n",
       "Friday         Opthamology     Neurosurgery  General Surgery  General Surgery   \n",
       "\n",
       "                   Main-5  \n",
       "Monday     Otolaryngology  \n",
       "Tuesday    Otolaryngology  \n",
       "Wednesday    Neurosurgery  \n",
       "Thursday     Neurosurgery  \n",
       "Friday       Oral Surgery  "
      ]
     },
     "execution_count": 255,
     "metadata": {},
     "output_type": "execute_result"
    }
   ],
   "source": [
    "schedule_func()"
   ]
  }
 ],
 "metadata": {
  "kernelspec": {
   "display_name": "Python 3",
   "language": "python",
   "name": "python3"
  },
  "language_info": {
   "codemirror_mode": {
    "name": "ipython",
    "version": 3
   },
   "file_extension": ".py",
   "mimetype": "text/x-python",
   "name": "python",
   "nbconvert_exporter": "python",
   "pygments_lexer": "ipython3",
   "version": "3.6.9"
  }
 },
 "nbformat": 4,
 "nbformat_minor": 4
}
