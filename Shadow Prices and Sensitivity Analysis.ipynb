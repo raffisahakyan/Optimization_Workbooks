{
 "cells": [
  {
   "cell_type": "markdown",
   "metadata": {},
   "source": [
    "## Shadow Prices and Sensitivity Analysis\n",
    "\n",
    "\n",
    "Recall that the linear program for the bag production problem is given by \n",
    "\n",
    "\\begin{align}\n",
    "\\underset{x_S, x_D}{\\text{max}} \\;\\; & 10 x_s + 8 x_D\\\\\n",
    "\\text{s.t.} \\;\\; &\\frac{7}{10} x_S + x_D \\le 630 \\\\\n",
    "& \\frac{1}{2} x_S + \\frac{5}{6} x_D \\le 600 \\\\\n",
    "& x_S + \\frac{2}{3} x_D \\le 708 \\\\\n",
    "& \\frac{1}{10}x_S + \\frac{1}{4} x_D \\le 135  \\\\\n",
    "& x_S, x_D \\ge 0.\n",
    "\\end{align}\n"
   ]
  },
  {
   "cell_type": "markdown",
   "metadata": {},
   "source": [
    "The code below implements and solves the LP."
   ]
  },
  {
   "cell_type": "code",
   "execution_count": 1,
   "metadata": {
    "scrolled": true
   },
   "outputs": [
    {
     "name": "stdout",
     "output_type": "stream",
     "text": [
      "Academic license - for non-commercial use only\n",
      "Optimize a model with 6 rows, 2 columns and 10 nonzeros\n",
      "Coefficient statistics:\n",
      "  Matrix range     [1e-01, 1e+00]\n",
      "  Objective range  [9e+00, 1e+01]\n",
      "  Bounds range     [0e+00, 0e+00]\n",
      "  RHS range        [1e+02, 7e+02]\n",
      "Presolve removed 2 rows and 0 columns\n",
      "Presolve time: 0.01s\n",
      "Presolved: 4 rows, 2 columns, 8 nonzeros\n",
      "\n",
      "Iteration    Objective       Primal Inf.    Dual Inf.      Time\n",
      "       0    9.0000000e+03   4.791138e+01   0.000000e+00      0s\n",
      "       2    7.6680000e+03   0.000000e+00   0.000000e+00      0s\n",
      "\n",
      "Solved in 2 iterations and 0.02 seconds\n",
      "Optimal objective  7.668000000e+03\n"
     ]
    }
   ],
   "source": [
    "from gurobipy import *\n",
    "\n",
    "\n",
    "#Initialize model. \n",
    "mod = Model()\n",
    "\n",
    "# Define decision variables. We will use variable names 'S' and 'D' for simplicity.\n",
    "S = mod.addVar()\n",
    "D = mod.addVar()\n",
    "\n",
    "# Construct constraints.\n",
    "cutting_con = mod.addConstr((7/10)*S + D  <= 630)\n",
    "sewing_con =  mod.addConstr((1/2)*S + (5/6)*D  <= 600)\n",
    "finishing_con =  mod.addConstr(S + (2/3)*D  <= 708)\n",
    "inspecting_con = mod.addConstr((1/10)*S + (1/4)*D  <= 135)\n",
    "\n",
    "# Add non-negativity constraints.\n",
    "mod.addConstr(S >= 0.0)\n",
    "mod.addConstr(D >= 0.0)\n",
    "\n",
    "# Create the objective function, and set it to be maximized.\n",
    "mod.setObjective(10*S + 9*D, GRB.MAXIMIZE)\n",
    "\n",
    "mod.update()\n",
    "mod.optimize()"
   ]
  },
  {
   "cell_type": "markdown",
   "metadata": {},
   "source": [
    "What if the right hand side of the cutting constraint increased from 630 to 631? How would this change profit?"
   ]
  },
  {
   "cell_type": "code",
   "execution_count": 2,
   "metadata": {},
   "outputs": [
    {
     "name": "stdout",
     "output_type": "stream",
     "text": [
      "Optimize a model with 6 rows, 2 columns and 10 nonzeros\n",
      "Coefficient statistics:\n",
      "  Matrix range     [1e-01, 1e+00]\n",
      "  Objective range  [9e+00, 1e+01]\n",
      "  Bounds range     [0e+00, 0e+00]\n",
      "  RHS range        [1e+02, 7e+02]\n",
      "Presolve removed 2 rows and 0 columns\n",
      "Presolve time: 0.01s\n",
      "Presolved: 4 rows, 2 columns, 8 nonzeros\n",
      "\n",
      "Iteration    Objective       Primal Inf.    Dual Inf.      Time\n",
      "       0    9.0142857e+03   4.826852e+01   0.000000e+00      0s\n",
      "       2    7.6723750e+03   0.000000e+00   0.000000e+00      0s\n",
      "\n",
      "Solved in 2 iterations and 0.02 seconds\n",
      "Optimal objective  7.672375000e+03\n"
     ]
    }
   ],
   "source": [
    "#Initialize model. \n",
    "mod = Model()\n",
    "\n",
    "# Define decision variables. We will use variable names 'S' and 'D' for simplicity.\n",
    "S = mod.addVar()\n",
    "D = mod.addVar()\n",
    "\n",
    "# Construct constraints.\n",
    "cutting_con = mod.addConstr((7/10)*S + D  <= 631)\n",
    "sewing_con =  mod.addConstr((1/2)*S + (5/6)*D  <= 600)\n",
    "finishing_con =  mod.addConstr(S + (2/3)*D  <= 708)\n",
    "inspecting_con = mod.addConstr((1/10)*S + (1/4)*D  <= 135)\n",
    "\n",
    "# Add non-negativity constraints.\n",
    "mod.addConstr(S >= 0.0)\n",
    "mod.addConstr(D >= 0.0)\n",
    "\n",
    "# Create the objective function, and set it to be maximized.\n",
    "mod.setObjective(10*S + 9*D, GRB.MAXIMIZE)\n",
    "\n",
    "mod.update()\n",
    "mod.optimize()"
   ]
  },
  {
   "cell_type": "markdown",
   "metadata": {},
   "source": [
    "Profit increased from $\\$$7668 to $\\$$7672.375 -- an increased of $\\$$4.375. There is another way to get this information, called the \"shadow price\" of the cutting constraint."
   ]
  },
  {
   "cell_type": "code",
   "execution_count": 3,
   "metadata": {},
   "outputs": [
    {
     "data": {
      "text/plain": [
       "4.375000000000001"
      ]
     },
     "execution_count": 3,
     "metadata": {},
     "output_type": "execute_result"
    }
   ],
   "source": [
    "# Get shadow price of cutting constraint\n",
    "cutting_con.pi"
   ]
  },
  {
   "cell_type": "markdown",
   "metadata": {},
   "source": [
    "The shadow price of a constraint is the increase in the optimal value under a single unit increase in the right hand side of the constraint. The shadow price is only valid \"locally\", i.e., for small changes in the right hand side of the constraint. "
   ]
  },
  {
   "cell_type": "markdown",
   "metadata": {},
   "source": [
    "If we want to do a broader analysis of the effect that increases in the cutting capacity has on the optimal value, we can do so manually."
   ]
  },
  {
   "cell_type": "code",
   "execution_count": 4,
   "metadata": {},
   "outputs": [
    {
     "name": "stdout",
     "output_type": "stream",
     "text": [
      "Optimize a model with 6 rows, 2 columns and 10 nonzeros\n",
      "Coefficient statistics:\n",
      "  Matrix range     [1e-01, 1e+00]\n",
      "  Objective range  [9e+00, 1e+01]\n",
      "  Bounds range     [0e+00, 0e+00]\n",
      "  RHS range        [1e+02, 7e+02]\n",
      "Presolve removed 2 rows and 0 columns\n",
      "Presolve time: 0.01s\n",
      "Presolved: 4 rows, 2 columns, 8 nonzeros\n",
      "\n",
      "Iteration    Objective       Primal Inf.    Dual Inf.      Time\n",
      "       0    9.0000000e+03   4.791138e+01   0.000000e+00      0s\n",
      "       2    7.6680000e+03   0.000000e+00   0.000000e+00      0s\n",
      "\n",
      "Solved in 2 iterations and 0.02 seconds\n",
      "Optimal objective  7.668000000e+03\n",
      "Optimize a model with 6 rows, 2 columns and 10 nonzeros\n",
      "Coefficient statistics:\n",
      "  Matrix range     [1e-01, 1e+00]\n",
      "  Objective range  [9e+00, 1e+01]\n",
      "  Bounds range     [0e+00, 0e+00]\n",
      "  RHS range        [1e+02, 7e+02]\n",
      "Presolve removed 2 rows and 0 columns\n",
      "Presolve time: 0.01s\n",
      "Presolved: 4 rows, 2 columns, 8 nonzeros\n",
      "\n",
      "Iteration    Objective       Primal Inf.    Dual Inf.      Time\n",
      "       0    9.1428571e+03   5.148280e+01   0.000000e+00      0s\n",
      "       2    7.7117500e+03   0.000000e+00   0.000000e+00      0s\n",
      "\n",
      "Solved in 2 iterations and 0.01 seconds\n",
      "Optimal objective  7.711750000e+03\n",
      "Optimize a model with 6 rows, 2 columns and 10 nonzeros\n",
      "Coefficient statistics:\n",
      "  Matrix range     [1e-01, 1e+00]\n",
      "  Objective range  [9e+00, 1e+01]\n",
      "  Bounds range     [0e+00, 0e+00]\n",
      "  RHS range        [1e+02, 7e+02]\n",
      "Presolve removed 2 rows and 0 columns\n",
      "Presolve time: 0.01s\n",
      "Presolved: 4 rows, 2 columns, 8 nonzeros\n",
      "\n",
      "Iteration    Objective       Primal Inf.    Dual Inf.      Time\n",
      "       0    9.2857143e+03   5.505423e+01   0.000000e+00      0s\n",
      "       2    7.7555000e+03   0.000000e+00   0.000000e+00      0s\n",
      "\n",
      "Solved in 2 iterations and 0.03 seconds\n",
      "Optimal objective  7.755500000e+03\n",
      "Optimize a model with 6 rows, 2 columns and 10 nonzeros\n",
      "Coefficient statistics:\n",
      "  Matrix range     [1e-01, 1e+00]\n",
      "  Objective range  [9e+00, 1e+01]\n",
      "  Bounds range     [0e+00, 0e+00]\n",
      "  RHS range        [1e+02, 7e+02]\n",
      "Presolve removed 2 rows and 0 columns\n",
      "Presolve time: 0.02s\n",
      "Presolved: 4 rows, 2 columns, 8 nonzeros\n",
      "\n",
      "Iteration    Objective       Primal Inf.    Dual Inf.      Time\n",
      "       0    9.4285714e+03   5.862566e+01   0.000000e+00      0s\n",
      "       2    7.7992500e+03   0.000000e+00   0.000000e+00      0s\n",
      "\n",
      "Solved in 2 iterations and 0.04 seconds\n",
      "Optimal objective  7.799250000e+03\n",
      "Optimize a model with 6 rows, 2 columns and 10 nonzeros\n",
      "Coefficient statistics:\n",
      "  Matrix range     [1e-01, 1e+00]\n",
      "  Objective range  [9e+00, 1e+01]\n",
      "  Bounds range     [0e+00, 0e+00]\n",
      "  RHS range        [1e+02, 7e+02]\n",
      "Presolve removed 2 rows and 0 columns\n",
      "Presolve time: 0.02s\n",
      "Presolved: 4 rows, 2 columns, 8 nonzeros\n",
      "\n",
      "Iteration    Objective       Primal Inf.    Dual Inf.      Time\n",
      "       0    9.5714286e+03   6.219709e+01   0.000000e+00      0s\n",
      "       2    7.8430000e+03   0.000000e+00   0.000000e+00      0s\n",
      "\n",
      "Solved in 2 iterations and 0.03 seconds\n",
      "Optimal objective  7.843000000e+03\n",
      "Optimize a model with 6 rows, 2 columns and 10 nonzeros\n",
      "Coefficient statistics:\n",
      "  Matrix range     [1e-01, 1e+00]\n",
      "  Objective range  [9e+00, 1e+01]\n",
      "  Bounds range     [0e+00, 0e+00]\n",
      "  RHS range        [1e+02, 7e+02]\n",
      "Presolve removed 2 rows and 0 columns\n",
      "Presolve time: 0.01s\n",
      "Presolved: 4 rows, 2 columns, 8 nonzeros\n",
      "\n",
      "Iteration    Objective       Primal Inf.    Dual Inf.      Time\n",
      "       0    9.7142857e+03   6.576852e+01   0.000000e+00      0s\n",
      "       2    7.8867500e+03   0.000000e+00   0.000000e+00      0s\n",
      "\n",
      "Solved in 2 iterations and 0.03 seconds\n",
      "Optimal objective  7.886750000e+03\n",
      "Optimize a model with 6 rows, 2 columns and 10 nonzeros\n",
      "Coefficient statistics:\n",
      "  Matrix range     [1e-01, 1e+00]\n",
      "  Objective range  [9e+00, 1e+01]\n",
      "  Bounds range     [0e+00, 0e+00]\n",
      "  RHS range        [1e+02, 7e+02]\n",
      "Presolve removed 2 rows and 0 columns\n",
      "Presolve time: 0.01s\n",
      "Presolved: 4 rows, 2 columns, 8 nonzeros\n",
      "\n",
      "Iteration    Objective       Primal Inf.    Dual Inf.      Time\n",
      "       0    9.8571429e+03   6.933995e+01   0.000000e+00      0s\n",
      "       3    7.8970909e+03   0.000000e+00   0.000000e+00      0s\n",
      "\n",
      "Solved in 3 iterations and 0.02 seconds\n",
      "Optimal objective  7.897090909e+03\n",
      "Optimize a model with 6 rows, 2 columns and 10 nonzeros\n",
      "Coefficient statistics:\n",
      "  Matrix range     [1e-01, 1e+00]\n",
      "  Objective range  [9e+00, 1e+01]\n",
      "  Bounds range     [0e+00, 0e+00]\n",
      "  RHS range        [1e+02, 7e+02]\n",
      "Presolve removed 2 rows and 0 columns\n",
      "Presolve time: 0.01s\n",
      "Presolved: 4 rows, 2 columns, 8 nonzeros\n",
      "\n",
      "Iteration    Objective       Primal Inf.    Dual Inf.      Time\n",
      "       0    1.0000000e+04   7.291138e+01   0.000000e+00      0s\n",
      "       3    7.8970909e+03   0.000000e+00   0.000000e+00      0s\n",
      "\n",
      "Solved in 3 iterations and 0.02 seconds\n",
      "Optimal objective  7.897090909e+03\n",
      "Optimize a model with 6 rows, 2 columns and 10 nonzeros\n",
      "Coefficient statistics:\n",
      "  Matrix range     [1e-01, 1e+00]\n",
      "  Objective range  [9e+00, 1e+01]\n",
      "  Bounds range     [0e+00, 0e+00]\n",
      "  RHS range        [1e+02, 7e+02]\n",
      "Presolve removed 2 rows and 0 columns\n",
      "Presolve time: 0.01s\n",
      "Presolved: 4 rows, 2 columns, 8 nonzeros\n",
      "\n",
      "Iteration    Objective       Primal Inf.    Dual Inf.      Time\n",
      "       0    1.0142857e+04   7.648280e+01   0.000000e+00      0s\n",
      "       3    7.8970909e+03   0.000000e+00   0.000000e+00      0s\n",
      "\n",
      "Solved in 3 iterations and 0.04 seconds\n",
      "Optimal objective  7.897090909e+03\n",
      "Optimize a model with 6 rows, 2 columns and 10 nonzeros\n",
      "Coefficient statistics:\n",
      "  Matrix range     [1e-01, 1e+00]\n",
      "  Objective range  [9e+00, 1e+01]\n",
      "  Bounds range     [0e+00, 0e+00]\n",
      "  RHS range        [1e+02, 7e+02]\n",
      "Presolve removed 2 rows and 0 columns\n",
      "Presolve time: 0.02s\n",
      "Presolved: 4 rows, 2 columns, 8 nonzeros\n",
      "\n",
      "Iteration    Objective       Primal Inf.    Dual Inf.      Time\n",
      "       0    1.0285714e+04   8.005423e+01   0.000000e+00      0s\n",
      "       3    7.8970909e+03   0.000000e+00   0.000000e+00      0s\n",
      "\n",
      "Solved in 3 iterations and 0.03 seconds\n",
      "Optimal objective  7.897090909e+03\n",
      "Optimize a model with 6 rows, 2 columns and 10 nonzeros\n",
      "Coefficient statistics:\n",
      "  Matrix range     [1e-01, 1e+00]\n",
      "  Objective range  [9e+00, 1e+01]\n",
      "  Bounds range     [0e+00, 0e+00]\n",
      "  RHS range        [1e+02, 7e+02]\n",
      "Presolve removed 2 rows and 0 columns\n",
      "Presolve time: 0.02s\n",
      "Presolved: 4 rows, 2 columns, 8 nonzeros\n",
      "\n",
      "Iteration    Objective       Primal Inf.    Dual Inf.      Time\n",
      "       0    1.0428571e+04   8.362566e+01   0.000000e+00      0s\n",
      "       3    7.8970909e+03   0.000000e+00   0.000000e+00      0s\n",
      "\n",
      "Solved in 3 iterations and 0.04 seconds\n",
      "Optimal objective  7.897090909e+03\n"
     ]
    }
   ],
   "source": [
    "cutValue = [630, 640, 650, 660, 670, 680, 690, 700, 710, 720, 730]\n",
    "\n",
    "optValue = [None]*len(cutValue)\n",
    "for i in range(len(cutValue)):\n",
    "    #Initialize model. \n",
    "    mod = Model()\n",
    "\n",
    "    # Define decision variables. We will use variable names 'S' and 'D' for simplicity.\n",
    "    S = mod.addVar()\n",
    "    D = mod.addVar()\n",
    "\n",
    "    # Construct constraints.\n",
    "    cutting_con = mod.addConstr((7/10)*S + D  <= cutValue[i])\n",
    "    sewing_con =  mod.addConstr((1/2)*S + (5/6)*D  <= 600)\n",
    "    finishing_con =  mod.addConstr(S + (2/3)*D  <= 708)\n",
    "    inspecting_con = mod.addConstr((1/10)*S + (1/4)*D  <= 135)\n",
    "\n",
    "    # Add non-negativity constraints.\n",
    "    mod.addConstr(S >= 0.0)\n",
    "    mod.addConstr(D >= 0.0)\n",
    "\n",
    "    # Create the objective function, and set it to be maximized.\n",
    "    mod.setObjective(10*S + 9*D, GRB.MAXIMIZE)\n",
    "\n",
    "    mod.update()\n",
    "    mod.optimize()\n",
    "    \n",
    "    optValue[i] = mod.objval;\n",
    "    \n",
    "\n",
    "    "
   ]
  },
  {
   "cell_type": "code",
   "execution_count": 6,
   "metadata": {},
   "outputs": [
    {
     "data": {
      "image/png": "[encoded data removed]",
      "text/plain": [
       "<Figure size 432x288 with 1 Axes>"
      ]
     },
     "metadata": {
      "needs_background": "light"
     },
     "output_type": "display_data"
    }
   ],
   "source": [
    "## Plot change in optimal value with \n",
    "\n",
    "import matplotlib.pyplot as plt\n",
    "plt.scatter(cutValue, optValue)\n",
    "plt.plot(cutValue, optValue)\n",
    "plt.title('Optimal profit vs. cutting capacity')\n",
    "plt.xlabel('Cutting capacity')\n",
    "plt.ylabel('Optimal profit')\n",
    "plt.show()"
   ]
  },
  {
   "cell_type": "code",
   "execution_count": null,
   "metadata": {},
   "outputs": [],
   "source": []
  }
 ],
 "metadata": {
  "kernelspec": {
   "display_name": "Python 3",
   "language": "python",
   "name": "python3"
  },
  "language_info": {
   "codemirror_mode": {
    "name": "ipython",
    "version": 3
   },
   "file_extension": ".py",
   "mimetype": "text/x-python",
   "name": "python",
   "nbconvert_exporter": "python",
   "pygments_lexer": "ipython3",
   "version": "3.6.9"
  }
 },
 "nbformat": 4,
 "nbformat_minor": 4
}
