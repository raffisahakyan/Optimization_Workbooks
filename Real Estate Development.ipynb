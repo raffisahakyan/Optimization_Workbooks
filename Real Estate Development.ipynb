{
 "cells": [
  {
   "cell_type": "markdown",
   "metadata": {},
   "source": [
    "## Real Estate Development Example\n",
    "\n",
    "The integer program for the real estate development problem is given by \n",
    "\n",
    "\\begin{align}\n",
    "\\underset{{\\bf x}}{\\text{max}} \\;\\; & \\sum_{i = 1}^n r_i x_i \\\\\n",
    "\\text{s.t.} \\;\\; & \\sum_{i = 1}^n c_i x_i \\le B\\\\\n",
    "& x_i \\in \\{0,1\\} \\quad i = 1,\\ldots,n.\n",
    "\\end{align}"
   ]
  },
  {
   "cell_type": "markdown",
   "metadata": {},
   "source": [
    "The code below implements the above IP with randomly generated data."
   ]
  },
  {
   "cell_type": "code",
   "execution_count": 1,
   "metadata": {},
   "outputs": [
    {
     "name": "stdout",
     "output_type": "stream",
     "text": [
      "Academic license - for non-commercial use only\n",
      "Optimize a model with 1 rows, 60 columns and 60 nonzeros\n",
      "Variable types: 0 continuous, 60 integer (60 binary)\n",
      "Coefficient statistics:\n",
      "  Matrix range     [9e-02, 1e+01]\n",
      "  Objective range  [8e-04, 1e+00]\n",
      "  Bounds range     [1e+00, 1e+00]\n",
      "  RHS range        [1e+01, 1e+01]\n",
      "Found heuristic solution: objective 1.2956228\n",
      "Presolve removed 0 rows and 23 columns\n",
      "Presolve time: 0.01s\n",
      "Presolved: 1 rows, 37 columns, 37 nonzeros\n",
      "Found heuristic solution: objective 5.8097866\n",
      "Variable types: 0 continuous, 37 integer (37 binary)\n",
      "\n",
      "Root relaxation: objective 6.635734e+00, 1 iterations, 0.00 seconds\n",
      "\n",
      "    Nodes    |    Current Node    |     Objective Bounds      |     Work\n",
      " Expl Unexpl |  Obj  Depth IntInf | Incumbent    BestBd   Gap | It/Node Time\n",
      "\n",
      "     0     0    6.63573    0    1    5.80979    6.63573  14.2%     -    0s\n",
      "H    0     0                       6.6144939    6.63573  0.32%     -    0s\n",
      "     0     0     cutoff    0         6.61449    6.61449  0.00%     -    0s\n",
      "\n",
      "Explored 1 nodes (1 simplex iterations) in 0.08 seconds\n",
      "Thread count was 4 (of 4 available processors)\n",
      "\n",
      "Solution count 4: 6.61449 5.80979 1.29562 1.03579 \n",
      "\n",
      "Optimal solution found (tolerance 1.00e-04)\n",
      "Best objective 6.614493928137e+00, best bound 6.614493928137e+00, gap 0.0000%\n",
      "[1.0, 0.0, 0.0, 0.0, 0.0, 0.0, 1.0, 0.0, 0.0, 1.0, 0.0, 1.0, 0.0, -0.0, 0.0, 0.0, 1.0, 0.0, 0.0, 1.0, 0.0, 1.0, 0.0, 0.0, -0.0, 0.0, 0.0, 1.0, 0.0, 0.0, 0.0, 0.0, 0.0, 0.0, 0.0, -0.0, 0.0, -0.0, 0.0, -0.0, 0.0, 0.0, 0.0, 1.0, 0.0, 0.0, 1.0, 0.0, 0.0, 0.0, 1.0, 1.0, 0.0, 0.0, -0.0, 0.0, 0.0, -0.0, 0.0, -0.0]\n"
     ]
    }
   ],
   "source": [
    "# Import gurobi and numpy\n",
    "from gurobipy import *\n",
    "import numpy as np\n",
    "\n",
    "# Define model and parameters. \n",
    "mod = Model()\n",
    "\n",
    "n = 60;\n",
    "B = 10;\n",
    "c = 10*np.random.rand(n)\n",
    "r = np.random.rand(n)\n",
    "\n",
    "# Define decision variables. Note that vtype = GRB.BINARY defines all variables to be binary.\n",
    "x = mod.addVars(n, vtype = GRB.BINARY)\n",
    "\n",
    "# Budget constraint\n",
    "budget_con = mod.addConstr(sum(c[i]*x[i] for i in range(n)) <= B)\n",
    "\n",
    "# Create the objective function, and set it to be maximized.\n",
    "mod.setObjective(sum(r[i]*x[i] for i in range(n)), GRB.MAXIMIZE)\n",
    "\n",
    "mod.update()\n",
    "\n",
    "mod.optimize()\n",
    "\n",
    "x_opt = [x[i].x for i in range(n)]\n",
    "\n",
    "print(x_opt)\n",
    "\n"
   ]
  }
 ],
 "metadata": {
  "kernelspec": {
   "display_name": "Python 3",
   "language": "python",
   "name": "python3"
  },
  "language_info": {
   "codemirror_mode": {
    "name": "ipython",
    "version": 3
   },
   "file_extension": ".py",
   "mimetype": "text/x-python",
   "name": "python",
   "nbconvert_exporter": "python",
   "pygments_lexer": "ipython3",
   "version": "3.6.9"
  }
 },
 "nbformat": 4,
 "nbformat_minor": 4
}
