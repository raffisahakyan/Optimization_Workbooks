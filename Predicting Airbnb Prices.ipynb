{
 "cells": [
  {
   "cell_type": "markdown",
   "metadata": {},
   "source": [
    "## <center> Portfolio Optimization-Assignment 3\n",
    "#### <center>Author: Raffi Sahakyan\n",
    "##### <center>Class: 19F-MGMTMSA403-1 Optimization\n",
    "##### <center>Date: 6 Dec, 2019"
   ]
  },
  {
   "cell_type": "code",
   "execution_count": 1,
   "metadata": {},
   "outputs": [],
   "source": [
    "# Import necessary starting libraries\n",
    "from gurobipy import *\n",
    "import numpy as np\n",
    "import pandas as pd\n",
    "import matplotlib.pyplot as plt\n",
    "\n",
    "#Defining Optimize and Update Function for Code Efficiency\n",
    "def grb_optimize(model):\n",
    "    model.update()\n",
    "    model.optimize()"
   ]
  },
  {
   "cell_type": "code",
   "execution_count": 2,
   "metadata": {},
   "outputs": [
    {
     "data": {
      "text/html": [
       "<div>\n",
       "<style scoped>\n",
       "    .dataframe tbody tr th:only-of-type {\n",
       "        vertical-align: middle;\n",
       "    }\n",
       "\n",
       "    .dataframe tbody tr th {\n",
       "        vertical-align: top;\n",
       "    }\n",
       "\n",
       "    .dataframe thead th {\n",
       "        text-align: right;\n",
       "    }\n",
       "</style>\n",
       "<table border=\"1\" class=\"dataframe\">\n",
       "  <thead>\n",
       "    <tr style=\"text-align: right;\">\n",
       "      <th></th>\n",
       "      <th>latitude</th>\n",
       "      <th>longitude</th>\n",
       "      <th>Entire home</th>\n",
       "      <th>accommodates</th>\n",
       "      <th>bathrooms</th>\n",
       "      <th>bedrooms</th>\n",
       "      <th>beds</th>\n",
       "      <th>cleaning_fee</th>\n",
       "      <th>minimum_nights</th>\n",
       "      <th>number_of_reviews</th>\n",
       "      <th>review_scores_rating</th>\n",
       "      <th>instant_bookable</th>\n",
       "      <th>price</th>\n",
       "    </tr>\n",
       "  </thead>\n",
       "  <tbody>\n",
       "    <tr>\n",
       "      <td>0</td>\n",
       "      <td>34.103701</td>\n",
       "      <td>-118.332241</td>\n",
       "      <td>1</td>\n",
       "      <td>13</td>\n",
       "      <td>2.0</td>\n",
       "      <td>3</td>\n",
       "      <td>2.0</td>\n",
       "      <td>150</td>\n",
       "      <td>2</td>\n",
       "      <td>1</td>\n",
       "      <td>100</td>\n",
       "      <td>1</td>\n",
       "      <td>350</td>\n",
       "    </tr>\n",
       "    <tr>\n",
       "      <td>1</td>\n",
       "      <td>34.099484</td>\n",
       "      <td>-118.331645</td>\n",
       "      <td>1</td>\n",
       "      <td>8</td>\n",
       "      <td>2.0</td>\n",
       "      <td>2</td>\n",
       "      <td>4.0</td>\n",
       "      <td>150</td>\n",
       "      <td>1</td>\n",
       "      <td>11</td>\n",
       "      <td>96</td>\n",
       "      <td>1</td>\n",
       "      <td>190</td>\n",
       "    </tr>\n",
       "    <tr>\n",
       "      <td>2</td>\n",
       "      <td>34.104321</td>\n",
       "      <td>-118.329662</td>\n",
       "      <td>1</td>\n",
       "      <td>4</td>\n",
       "      <td>1.0</td>\n",
       "      <td>0</td>\n",
       "      <td>1.0</td>\n",
       "      <td>55</td>\n",
       "      <td>1</td>\n",
       "      <td>1</td>\n",
       "      <td>80</td>\n",
       "      <td>0</td>\n",
       "      <td>85</td>\n",
       "    </tr>\n",
       "  </tbody>\n",
       "</table>\n",
       "</div>"
      ],
      "text/plain": [
       "    latitude   longitude  Entire home  accommodates  bathrooms  bedrooms  \\\n",
       "0  34.103701 -118.332241            1            13        2.0         3   \n",
       "1  34.099484 -118.331645            1             8        2.0         2   \n",
       "2  34.104321 -118.329662            1             4        1.0         0   \n",
       "\n",
       "   beds  cleaning_fee  minimum_nights  number_of_reviews  \\\n",
       "0   2.0           150               2                  1   \n",
       "1   4.0           150               1                 11   \n",
       "2   1.0            55               1                  1   \n",
       "\n",
       "   review_scores_rating  instant_bookable  price  \n",
       "0                   100                 1    350  \n",
       "1                    96                 1    190  \n",
       "2                    80                 0     85  "
      ]
     },
     "execution_count": 2,
     "metadata": {},
     "output_type": "execute_result"
    }
   ],
   "source": [
    "#Uploading data\n",
    "df_train = pd.read_csv('AirbnbTrain.csv')\n",
    "df_test = pd.read_csv('AirbnbTest.csv')\n",
    "\n",
    "df_train.head(3)"
   ]
  },
  {
   "cell_type": "markdown",
   "metadata": {},
   "source": [
    "#### __Model 1__ \n",
    "<br>\n",
    "Formulate the least absolute deviations regression problem as a linear program. Solve the linear program using the data given in the file AirbnbTrain.csv. What is the prediction error, in $/night, of your model on the test set (provided in AirbnbTest.csv)?"
   ]
  },
  {
   "cell_type": "code",
   "execution_count": 3,
   "metadata": {},
   "outputs": [
    {
     "name": "stdout",
     "output_type": "stream",
     "text": [
      "Academic license - for non-commercial use only\n",
      "Optimize a model with 3399 rows, 1712 columns and 41357 nonzeros\n",
      "Coefficient statistics:\n",
      "  Matrix range     [5e-01, 5e+02]\n",
      "  Objective range  [6e-04, 6e-04]\n",
      "  Bounds range     [0e+00, 0e+00]\n",
      "  RHS range        [1e+01, 2e+03]\n",
      "\n",
      "Concurrent LP optimizer: dual simplex and barrier\n",
      "Showing barrier log only...\n",
      "\n",
      "Presolve time: 0.08s\n",
      "Presolved: 3399 rows, 1712 columns, 41357 nonzeros\n",
      "\n",
      "Ordering time: 0.00s\n",
      "\n",
      "Barrier statistics:\n",
      " Dense cols : 12\n",
      " AA' NZ     : 3.966e+04\n",
      " Factor NZ  : 4.313e+04 (roughly 2 MBytes of memory)\n",
      " Factor Ops : 5.490e+05 (less than 1 second per iteration)\n",
      " Threads    : 1\n",
      "\n",
      "                  Objective                Residual\n",
      "Iter       Primal          Dual         Primal    Dual     Compl     Time\n",
      "   0   2.12302582e+03  0.00000000e+00  1.36e+03 0.00e+00  2.56e+01     0s\n",
      "   1   2.05670711e+03 -1.60039401e+00  0.00e+00 5.43e-03  1.75e+00     0s\n",
      "   2   1.14596696e+03  2.86526140e+00  0.00e+00 7.01e-05  2.34e-01     0s\n",
      "   3   1.13496631e+02  6.92128054e+00  0.00e+00 3.95e-06  2.09e-02     0s\n",
      "   4   5.08369407e+01  1.29703285e+01  0.00e+00 2.31e-06  7.42e-03     0s\n",
      "   5   4.06729686e+01  2.77653470e+01  0.00e+00 3.07e-07  2.53e-03     0s\n",
      "   6   3.72709451e+01  3.51065588e+01  0.00e+00 1.34e-08  4.24e-04     0s\n",
      "   7   3.67503397e+01  3.60389595e+01  0.00e+00 3.27e-09  1.39e-04     0s\n",
      "   8   3.65403505e+01  3.63400582e+01  0.00e+00 5.20e-10  3.92e-05     0s\n",
      "   9   3.64613821e+01  3.64304886e+01  0.00e+00 1.07e-11  6.05e-06     0s\n",
      "  10   3.64475450e+01  3.64426722e+01  0.00e+00 0.00e+00  9.53e-07     0s\n",
      "  11   3.64449925e+01  3.64445436e+01  0.00e+00 0.00e+00  8.78e-08     0s\n",
      "  12   3.64446322e+01  3.64446238e+01  0.00e+00 4.87e-14  1.65e-09     0s\n",
      "  13   3.64446304e+01  3.64446304e+01  0.00e+00 1.49e-13  1.65e-12     0s\n",
      "\n",
      "Barrier solved model in 13 iterations and 0.28 seconds\n",
      "Optimal objective 3.64446304e+01\n",
      "\n",
      "Crossover log...\n",
      "\n",
      "       0 DPushes remaining with DInf 6.1259591e-15                 0s\n",
      "\n",
      "       0 PPushes remaining with PInf 0.0000000e+00                 0s\n",
      "\n",
      "  Push phase complete: Pinf 0.0000000e+00, Dinf 6.1259591e-15      0s\n",
      "\n",
      "Iteration    Objective       Primal Inf.    Dual Inf.      Time\n",
      "      27    3.6444630e+01   0.000000e+00   0.000000e+00      0s\n",
      "\n",
      "Solved with barrier\n",
      "Solved in 27 iterations and 0.34 seconds\n",
      "Optimal objective  3.644463042e+01\n"
     ]
    }
   ],
   "source": [
    "#Initializing the model\n",
    "model1 = Model()\n",
    "\n",
    "#Adding Variables\n",
    "columns = df_train.shape[1]-1 #-1 to exclude the y variable\n",
    "rows = df_train.shape[0]\n",
    "y_train = df_train.price\n",
    "x_train = df_train.drop('price',axis=1)\n",
    "\n",
    "z=model1.addVars(rows)\n",
    "b=model1.addVars(columns)\n",
    "\n",
    "\n",
    "#Adding Constraints\n",
    "for row in range(rows):\n",
    "    model1.addConstr(z[row]>= y_train[row] - sum(np.multiply(b[col], x_train.iloc[row, col]) for col in range(columns)))\n",
    "\n",
    "for row in range(row):\n",
    "    model1.addConstr(z[row]>= -y_train[row] + sum(np.multiply(b[col], x_train.iloc[row, col])  for col in range(columns)))\n",
    "    \n",
    "#Setting objective\n",
    "model1.setObjective(sum(z[row] for row in range(rows))/rows, GRB.MINIMIZE)\n",
    "    \n",
    "#Gurobi optimize\n",
    "grb_optimize(model1)"
   ]
  },
  {
   "cell_type": "code",
   "execution_count": 4,
   "metadata": {},
   "outputs": [],
   "source": [
    "y = df_test.price\n",
    "x = df_test.drop('price', axis=1)\n",
    "\n",
    "cols_test = df_test.shape[1] - 1\n",
    "rows_test = df_test.shape[0]"
   ]
  },
  {
   "cell_type": "code",
   "execution_count": 5,
   "metadata": {},
   "outputs": [],
   "source": [
    "initial_error = 0\n",
    "for row in range(rows_test):\n",
    "    initial_error+= abs(y[row]- sum(b[col].x * x.iloc[row,col] for col in range(cols_test)))\n",
    "error = initial_error/rows_test"
   ]
  },
  {
   "cell_type": "code",
   "execution_count": 6,
   "metadata": {},
   "outputs": [
    {
     "name": "stdout",
     "output_type": "stream",
     "text": [
      "The prediction error is $/night:  35.627\n"
     ]
    }
   ],
   "source": [
    "print(\"The prediction error is $/night: \", round(error,3))"
   ]
  },
  {
   "cell_type": "markdown",
   "metadata": {},
   "source": [
    "__Model 2__ Suppose that to improve interpretability, you wish to build a model that predicts Airbnb prices using only the three most important variables. Modify Model 1 by including a constraint that allows at most three variables to have non-zero coefficients."
   ]
  },
  {
   "cell_type": "code",
   "execution_count": 7,
   "metadata": {
    "scrolled": true
   },
   "outputs": [
    {
     "name": "stdout",
     "output_type": "stream",
     "text": [
      "Optimize a model with 3424 rows, 1724 columns and 41417 nonzeros\n",
      "Variable types: 1712 continuous, 12 integer (12 binary)\n",
      "Coefficient statistics:\n",
      "  Matrix range     [5e-01, 1e+03]\n",
      "  Objective range  [6e-04, 6e-04]\n",
      "  Bounds range     [1e+00, 1e+00]\n",
      "  RHS range        [3e+00, 2e+03]\n",
      "Found heuristic solution: objective 144.9682353\n",
      "Presolve removed 836 rows and 412 columns\n",
      "Presolve time: 0.04s\n",
      "Presolved: 2588 rows, 1312 columns, 31305 nonzeros\n",
      "Variable types: 1300 continuous, 12 integer (12 binary)\n",
      "\n",
      "Root relaxation: objective 3.644463e+01, 1444 iterations, 0.21 seconds\n",
      "\n",
      "    Nodes    |    Current Node    |     Objective Bounds      |     Work\n",
      " Expl Unexpl |  Obj  Depth IntInf | Incumbent    BestBd   Gap | It/Node Time\n",
      "\n",
      "     0     0   36.44463    0    7  144.96824   36.44463  74.9%     -    0s\n",
      "H    0     0                      48.4678855   36.44463  24.8%     -    0s\n",
      "     0     0   36.44464    0   10   48.46789   36.44464  24.8%     -    0s\n",
      "H    0     0                      47.6738244   36.44464  23.6%     -    0s\n",
      "     0     0   36.44464    0   10   47.67382   36.44464  23.6%     -    0s\n",
      "     0     0   36.44713    0   11   47.67382   36.44713  23.5%     -    0s\n",
      "     0     0   36.44803    0   11   47.67382   36.44803  23.5%     -    0s\n",
      "     0     0   36.46948    0    9   47.67382   36.46948  23.5%     -    0s\n",
      "     0     0   36.47731    0   10   47.67382   36.47731  23.5%     -    0s\n",
      "     0     0   36.48348    0   11   47.67382   36.48348  23.5%     -    1s\n",
      "     0     0   36.48661    0   11   47.67382   36.48661  23.5%     -    1s\n",
      "     0     0   36.48967    0   11   47.67382   36.48967  23.5%     -    1s\n",
      "     0     0   36.49008    0   11   47.67382   36.49008  23.5%     -    1s\n",
      "     0     0   36.49277    0   11   47.67382   36.49277  23.5%     -    1s\n",
      "     0     0   36.49623    0   11   47.67382   36.49623  23.4%     -    1s\n",
      "     0     0   36.50281    0   11   47.67382   36.50281  23.4%     -    1s\n",
      "     0     0   36.50318    0   11   47.67382   36.50318  23.4%     -    1s\n",
      "     0     0   36.50749    0   11   47.67382   36.50749  23.4%     -    1s\n",
      "     0     0   36.50825    0   11   47.67382   36.50825  23.4%     -    1s\n",
      "     0     0   36.51161    0   11   47.67382   36.51161  23.4%     -    1s\n",
      "     0     0   36.51272    0   11   47.67382   36.51272  23.4%     -    1s\n",
      "     0     0   36.51348    0   11   47.67382   36.51348  23.4%     -    1s\n",
      "     0     0   36.51353    0   11   47.67382   36.51353  23.4%     -    1s\n",
      "     0     0   36.51358    0   11   47.67382   36.51358  23.4%     -    2s\n",
      "     0     0   36.51358    0   11   47.67382   36.51358  23.4%     -    2s\n",
      "     0     2   36.51358    0   11   47.67382   36.51358  23.4%     -    2s\n",
      "*   10    10               3      39.2301961   37.28483  4.96%   110    2s\n",
      "*   46     3               5      38.3376471   38.07157  0.69%  76.6    2s\n",
      "\n",
      "Cutting planes:\n",
      "  Gomory: 4\n",
      "  MIR: 13\n",
      "  Flow cover: 58\n",
      "\n",
      "Explored 59 nodes (5551 simplex iterations) in 2.93 seconds\n",
      "Thread count was 4 (of 4 available processors)\n",
      "\n",
      "Solution count 5: 38.3376 39.2302 47.6738 ... 144.968\n",
      "\n",
      "Optimal solution found (tolerance 1.00e-04)\n",
      "Best objective 3.833764705882e+01, best bound 3.833764705882e+01, gap 0.0000%\n"
     ]
    }
   ],
   "source": [
    "#Additional large constant\n",
    "bbar = 1000\n",
    "\n",
    "#Additional Variables\n",
    "v = model1.addVars(columns, vtype = GRB.BINARY)\n",
    "\n",
    "#Additional Constraints\n",
    "for col in range(columns):\n",
    "    model1.addConstr(b[col]<=bbar * v[col])\n",
    "\n",
    "for col in range(columns):\n",
    "    model1.addConstr(b[col]>=-bbar * v[col])    \n",
    "    \n",
    "model1.addConstr(sum(v[col] for col in range(columns))<=3)\n",
    "\n",
    "grb_optimize(model1)"
   ]
  },
  {
   "cell_type": "code",
   "execution_count": 8,
   "metadata": {},
   "outputs": [],
   "source": [
    "initial_error = 0\n",
    "for row in range(rows_test):\n",
    "    initial_error += abs(y[row]- sum(b[col].x * x.iloc[row, col] for col in range(cols_test)))\n",
    "new_error= initial_error/row\n",
    "\n",
    "index_b = []\n",
    "for index in range(len(b)):\n",
    "    if (b[index].getAttr(GRB.Attr.X)) != 0:\n",
    "         index_b.append(index)"
   ]
  },
  {
   "cell_type": "markdown",
   "metadata": {},
   "source": [
    "* List the names and coefficients of the three variables selected by the optimization model. \n",
    "* What is the new prediction error, in $/night, of Model 2?"
   ]
  },
  {
   "cell_type": "code",
   "execution_count": 9,
   "metadata": {},
   "outputs": [
    {
     "data": {
      "text/html": [
       "<div>\n",
       "<style scoped>\n",
       "    .dataframe tbody tr th:only-of-type {\n",
       "        vertical-align: middle;\n",
       "    }\n",
       "\n",
       "    .dataframe tbody tr th {\n",
       "        vertical-align: top;\n",
       "    }\n",
       "\n",
       "    .dataframe thead th {\n",
       "        text-align: right;\n",
       "    }\n",
       "</style>\n",
       "<table border=\"1\" class=\"dataframe\">\n",
       "  <thead>\n",
       "    <tr style=\"text-align: right;\">\n",
       "      <th></th>\n",
       "      <th>Coefficients</th>\n",
       "    </tr>\n",
       "    <tr>\n",
       "      <th>Names</th>\n",
       "      <th></th>\n",
       "    </tr>\n",
       "  </thead>\n",
       "  <tbody>\n",
       "    <tr>\n",
       "      <td>Entire home</td>\n",
       "      <td>52.0</td>\n",
       "    </tr>\n",
       "    <tr>\n",
       "      <td>accommodates</td>\n",
       "      <td>14.0</td>\n",
       "    </tr>\n",
       "    <tr>\n",
       "      <td>bedrooms</td>\n",
       "      <td>32.0</td>\n",
       "    </tr>\n",
       "  </tbody>\n",
       "</table>\n",
       "</div>"
      ],
      "text/plain": [
       "              Coefficients\n",
       "Names                     \n",
       "Entire home           52.0\n",
       "accommodates          14.0\n",
       "bedrooms              32.0"
      ]
     },
     "execution_count": 9,
     "metadata": {},
     "output_type": "execute_result"
    }
   ],
   "source": [
    "coef_df=pd.DataFrame(data=[b[i].getAttr(GRB.Attr.X) for i in index_b], index=df_train.columns[index_b], columns=['Coefficients'])\n",
    "coef_df.index.name = 'Names'\n",
    "coef_df"
   ]
  },
  {
   "cell_type": "code",
   "execution_count": 10,
   "metadata": {},
   "outputs": [
    {
     "name": "stdout",
     "output_type": "stream",
     "text": [
      "New prediction error is $/night:  37.791\n"
     ]
    }
   ],
   "source": [
    "print(\"New prediction error is $/night: \", round(new_error,3))"
   ]
  },
  {
   "cell_type": "markdown",
   "metadata": {},
   "source": [
    "__Model 3__. Suppose now you wish to build a model that predicts Airbnb listing price using only three variables, where one of the variables is the number of beds."
   ]
  },
  {
   "cell_type": "code",
   "execution_count": 11,
   "metadata": {},
   "outputs": [
    {
     "name": "stdout",
     "output_type": "stream",
     "text": [
      "Optimize a model with 3425 rows, 1724 columns and 41418 nonzeros\n",
      "Variable types: 1712 continuous, 12 integer (12 binary)\n",
      "Coefficient statistics:\n",
      "  Matrix range     [5e-01, 1e+03]\n",
      "  Objective range  [6e-04, 6e-04]\n",
      "  Bounds range     [1e+00, 1e+00]\n",
      "  RHS range        [1e+00, 2e+03]\n",
      "\n",
      "MIP start did not produce a new incumbent solution\n",
      "MIP start violates constraint R3424 by 1.000000000\n",
      "\n",
      "Found heuristic solution: objective 144.9682353\n",
      "Presolve removed 838 rows and 413 columns\n",
      "Presolve time: 0.04s\n",
      "Presolved: 2587 rows, 1311 columns, 31302 nonzeros\n",
      "Variable types: 1300 continuous, 11 integer (11 binary)\n",
      "\n",
      "Root relaxation: objective 3.644463e+01, 1464 iterations, 0.27 seconds\n",
      "\n",
      "    Nodes    |    Current Node    |     Objective Bounds      |     Work\n",
      " Expl Unexpl |  Obj  Depth IntInf | Incumbent    BestBd   Gap | It/Node Time\n",
      "\n",
      "     0     0   36.44463    0    8  144.96824   36.44463  74.9%     -    0s\n",
      "H    0     0                      48.6725044   36.44463  25.1%     -    0s\n",
      "     0     0   36.45476    0   10   48.67250   36.45476  25.1%     -    0s\n",
      "     0     0   36.46157    0   10   48.67250   36.46157  25.1%     -    0s\n",
      "     0     0   36.47241    0   11   48.67250   36.47241  25.1%     -    0s\n",
      "     0     0   36.47366    0   10   48.67250   36.47366  25.1%     -    0s\n",
      "     0     0   36.49745    0   10   48.67250   36.49745  25.0%     -    0s\n",
      "     0     0   36.51023    0    9   48.67250   36.51023  25.0%     -    0s\n",
      "     0     0   36.51630    0    9   48.67250   36.51630  25.0%     -    1s\n",
      "     0     0   36.52897    0   10   48.67250   36.52897  24.9%     -    1s\n",
      "     0     0   36.54326    0   10   48.67250   36.54326  24.9%     -    1s\n",
      "     0     0   36.54635    0   10   48.67250   36.54635  24.9%     -    1s\n",
      "     0     0   36.54880    0   10   48.67250   36.54880  24.9%     -    1s\n",
      "     0     0   36.55656    0   10   48.67250   36.55656  24.9%     -    1s\n",
      "     0     0   36.57580    0   10   48.67250   36.57580  24.9%     -    1s\n",
      "     0     0   36.58312    0   10   48.67250   36.58312  24.8%     -    1s\n",
      "     0     0   36.59243    0   10   48.67250   36.59243  24.8%     -    1s\n",
      "     0     0   36.59626    0   10   48.67250   36.59626  24.8%     -    1s\n",
      "     0     0   36.59932    0   10   48.67250   36.59932  24.8%     -    1s\n",
      "     0     0   36.60159    0   10   48.67250   36.60159  24.8%     -    1s\n",
      "     0     0   36.60760    0   10   48.67250   36.60760  24.8%     -    1s\n",
      "     0     0   36.60876    0   10   48.67250   36.60876  24.8%     -    1s\n",
      "     0     0   36.60992    0   10   48.67250   36.60992  24.8%     -    2s\n",
      "H    0     0                      44.5473529   36.60992  17.8%     -    2s\n",
      "     0     0   36.61067    0   10   44.54735   36.61067  17.8%     -    2s\n",
      "     0     0   36.61215    0   10   44.54735   36.61215  17.8%     -    2s\n",
      "     0     0   36.61383    0   10   44.54735   36.61383  17.8%     -    2s\n",
      "     0     0   36.61528    0   10   44.54735   36.61528  17.8%     -    2s\n",
      "     0     0   36.61578    0   10   44.54735   36.61578  17.8%     -    2s\n",
      "     0     0   36.61620    0   10   44.54735   36.61620  17.8%     -    2s\n",
      "     0     0   36.61651    0   10   44.54735   36.61651  17.8%     -    2s\n",
      "     0     0   36.62127    0   10   44.54735   36.62127  17.8%     -    2s\n",
      "     0     0   36.62242    0   10   44.54735   36.62242  17.8%     -    2s\n",
      "     0     0   36.63062    0   10   44.54735   36.63062  17.8%     -    2s\n",
      "     0     0   36.63195    0   10   44.54735   36.63195  17.8%     -    2s\n",
      "     0     0   36.63228    0   10   44.54735   36.63228  17.8%     -    3s\n",
      "     0     0   36.63299    0   10   44.54735   36.63299  17.8%     -    3s\n",
      "     0     0   36.63673    0   10   44.54735   36.63673  17.8%     -    3s\n",
      "     0     0   36.63734    0   10   44.54735   36.63734  17.8%     -    3s\n",
      "     0     0   36.63813    0   10   44.54735   36.63813  17.8%     -    3s\n",
      "     0     0   36.63821    0   10   44.54735   36.63821  17.8%     -    3s\n",
      "     0     0   36.63859    0   10   44.54735   36.63859  17.8%     -    3s\n",
      "     0     0   36.63966    0   10   44.54735   36.63966  17.8%     -    3s\n",
      "     0     0   36.63994    0   10   44.54735   36.63994  17.8%     -    3s\n",
      "     0     0   36.63994    0   10   44.54735   36.63994  17.8%     -    3s\n",
      "     0     0   36.63994    0   10   44.54735   36.63994  17.8%     -    3s\n",
      "     0     0   36.64032    0   10   44.54735   36.64032  17.7%     -    3s\n",
      "     0     0   36.64085    0   10   44.54735   36.64085  17.7%     -    4s\n",
      "     0     0   36.64099    0   10   44.54735   36.64099  17.7%     -    4s\n",
      "     0     0   36.64113    0   10   44.54735   36.64113  17.7%     -    4s\n",
      "     0     0   36.64137    0   10   44.54735   36.64137  17.7%     -    4s\n",
      "     0     0   36.64137    0   10   44.54735   36.64137  17.7%     -    4s\n",
      "     0     0   36.64146    0   10   44.54735   36.64146  17.7%     -    4s\n",
      "     0     0   36.64153    0   10   44.54735   36.64153  17.7%     -    4s\n",
      "     0     0   36.64153    0   10   44.54735   36.64153  17.7%     -    4s\n",
      "     0     2   36.64153    0   10   44.54735   36.64153  17.7%     -    4s\n",
      "*    6     6               2      43.7733987   37.48208  14.4%   192    4s\n",
      "*   10     6               3      40.3200490   38.33790  4.92%   245    4s\n",
      "*   12     6               4      40.3043694   38.33790  4.88%   232    4s\n",
      "*   19     1               4      40.0801471   38.36325  4.28%   177    4s\n",
      "\n",
      "Cutting planes:\n",
      "  Gomory: 1\n",
      "  MIR: 17\n",
      "  Flow cover: 94\n",
      "\n",
      "Explored 21 nodes (5609 simplex iterations) in 4.93 seconds\n",
      "Thread count was 4 (of 4 available processors)\n",
      "\n",
      "Solution count 7: 40.0801 40.3044 40.32 ... 144.968\n",
      "\n",
      "Optimal solution found (tolerance 1.00e-04)\n",
      "Best objective 4.008014705882e+01, best bound 4.008014705882e+01, gap 0.0000%\n"
     ]
    }
   ],
   "source": [
    "#Additional constraints\n",
    "model1.addConstr(v[6] == 1) #6 is the index of column beds\n",
    "grb_optimize(model1)"
   ]
  },
  {
   "cell_type": "code",
   "execution_count": 12,
   "metadata": {},
   "outputs": [],
   "source": [
    "intitial_error = 0\n",
    "for row in range(rows_test):\n",
    "    intitial_error+= abs(y[row]- sum(b[col].x*x.iloc[row, col] for col in range(cols_test)))\n",
    "new_error = intitial_error/rows_test\n",
    "\n",
    "index_b1= []\n",
    "for bi in range(len(b)):\n",
    "    if (b[bi].getAttr(GRB.Attr.X)) != 0:\n",
    "         index_b1.append(bi)"
   ]
  },
  {
   "cell_type": "markdown",
   "metadata": {},
   "source": [
    "* List the names and coefficients of the two other variables selected by the optimization model.\n",
    "* Which variable was in Model 2 but is no longer in Model 3? Briefly explain in 1-2 sentences why this variable might have been dropped.\n",
    "* What is the new prediction error, in $/night, of Model 3?"
   ]
  },
  {
   "cell_type": "code",
   "execution_count": 13,
   "metadata": {},
   "outputs": [
    {
     "data": {
      "text/html": [
       "<div>\n",
       "<style scoped>\n",
       "    .dataframe tbody tr th:only-of-type {\n",
       "        vertical-align: middle;\n",
       "    }\n",
       "\n",
       "    .dataframe tbody tr th {\n",
       "        vertical-align: top;\n",
       "    }\n",
       "\n",
       "    .dataframe thead th {\n",
       "        text-align: right;\n",
       "    }\n",
       "</style>\n",
       "<table border=\"1\" class=\"dataframe\">\n",
       "  <thead>\n",
       "    <tr style=\"text-align: right;\">\n",
       "      <th></th>\n",
       "      <th>Coefficients</th>\n",
       "    </tr>\n",
       "    <tr>\n",
       "      <th>Names</th>\n",
       "      <th></th>\n",
       "    </tr>\n",
       "  </thead>\n",
       "  <tbody>\n",
       "    <tr>\n",
       "      <td>Entire home</td>\n",
       "      <td>67.875</td>\n",
       "    </tr>\n",
       "    <tr>\n",
       "      <td>bedrooms</td>\n",
       "      <td>47.375</td>\n",
       "    </tr>\n",
       "    <tr>\n",
       "      <td>beds</td>\n",
       "      <td>12.125</td>\n",
       "    </tr>\n",
       "  </tbody>\n",
       "</table>\n",
       "</div>"
      ],
      "text/plain": [
       "             Coefficients\n",
       "Names                    \n",
       "Entire home        67.875\n",
       "bedrooms           47.375\n",
       "beds               12.125"
      ]
     },
     "execution_count": 13,
     "metadata": {},
     "output_type": "execute_result"
    }
   ],
   "source": [
    "coef_df_new=pd.DataFrame(data=[b[i].getAttr(GRB.Attr.X) for i in index_b1], index=df_train.columns[index_b1], columns=['Coefficients'])\n",
    "coef_df_new.index.name = 'Names'\n",
    "coef_df_new"
   ]
  },
  {
   "cell_type": "code",
   "execution_count": 14,
   "metadata": {},
   "outputs": [
    {
     "name": "stdout",
     "output_type": "stream",
     "text": [
      "The dropped variable is 'Accomodates'\n",
      "New prediction error is $/night:  38.6\n"
     ]
    }
   ],
   "source": [
    "print(\"The dropped variable is 'Accomodates'\")\n",
    "print(\"New prediction error is $/night: \", round(new_error,3))"
   ]
  },
  {
   "cell_type": "markdown",
   "metadata": {},
   "source": [
    "_Answer 3b:_ Variable \"Accomodates\" is correlated with the variable \"beds\", so variability in dependent variable can be equally highly explained by variabiliy in \"beds\". For the latter reason, the variable accomodates was dropped. To prove the latter statement we have to check the pearson correlation coefficient."
   ]
  },
  {
   "cell_type": "code",
   "execution_count": 19,
   "metadata": {},
   "outputs": [
    {
     "name": "stdout",
     "output_type": "stream",
     "text": [
      "Correllation is:  0.715\n"
     ]
    }
   ],
   "source": [
    "from scipy.stats.stats import pearsonr\n",
    "print(\"Correllation is: \",round(pearsonr(df_train.dropna().accommodates, df_train.dropna().beds)[0],3))"
   ]
  }
 ],
 "metadata": {
  "kernelspec": {
   "display_name": "Python 3",
   "language": "python",
   "name": "python3"
  },
  "language_info": {
   "codemirror_mode": {
    "name": "ipython",
    "version": 3
   },
   "file_extension": ".py",
   "mimetype": "text/x-python",
   "name": "python",
   "nbconvert_exporter": "python",
   "pygments_lexer": "ipython3",
   "version": "3.6.9"
  }
 },
 "nbformat": 4,
 "nbformat_minor": 4
}
