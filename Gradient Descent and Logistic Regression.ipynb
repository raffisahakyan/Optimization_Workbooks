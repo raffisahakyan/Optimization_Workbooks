{
 "cells": [
  {
   "cell_type": "markdown",
   "metadata": {},
   "source": [
    "## <center> Assignment 4: Logistic Regression and Gradient Descent\n",
    "#### <center>Author: Raffi Sahakyan\n",
    "##### <center>Class: 19F-MGMTMSA403-1 Optimization\n",
    "##### <center>Date: 12 Dec, 2019"
   ]
  },
  {
   "cell_type": "code",
   "execution_count": 1,
   "metadata": {},
   "outputs": [],
   "source": [
    "# Import necessary starting libraries\n",
    "import numpy as np\n",
    "import pandas as pd\n",
    "import matplotlib.pyplot as plt"
   ]
  },
  {
   "cell_type": "code",
   "execution_count": 2,
   "metadata": {},
   "outputs": [],
   "source": [
    "# Load train data\n",
    "data = np.genfromtxt('LRTrain.csv', delimiter=',',skip_header = 1)\n",
    "n = data.shape[0]\n",
    "d = data.shape[1]-1\n",
    "\n",
    "# get feature data\n",
    "x = data[:,0:d]\n",
    "\n",
    "# get label data\n",
    "y = data[:,d]\n",
    "\n",
    "# initialize weights\n",
    "w = np.zeros(d)\n",
    "\n",
    "## Define gradient function\n",
    "def grad(w, x, y):\n",
    "    g = np.zeros(d)\n",
    "    for i in range(n):\n",
    "        g = g + (1/(1+np.exp(np.dot(-w,x[i,:])))-y[i])*x[i,:]\n",
    "    return (1/n)*g\n",
    "\n",
    "## Define negative log likelihood function\n",
    "def fval(w, x, y):\n",
    "    v = 0;\n",
    "    for i in range(n):\n",
    "        v = v + (y[i]*np.log(1+np.exp(-np.dot(w,x[i,:]))) + (1-y[i])*np.log(1+np.exp(np.dot(w,x[i,:]))))\n",
    "    return (1/n)*v"
   ]
  },
  {
   "cell_type": "code",
   "execution_count": 3,
   "metadata": {},
   "outputs": [],
   "source": [
    "# Load test data\n",
    "data_test = np.genfromtxt('LRTest.csv', delimiter=',',skip_header = 1)\n",
    "n_test = data_test.shape[0]\n",
    "d_test = data_test.shape[1]-1\n",
    "\n",
    "# get feature data\n",
    "x_test = (data_test[:,0:d_test])\n",
    "\n",
    "# get label data\n",
    "y_test = (data_test[:,d_test])\n",
    "\n",
    "# initialize thresholds \n",
    "thresholds = [0 , 0.1, 0.2, 0.3, 0.4, 0.5, 0.6, 0.7, 0.8, 0.9, 1 ]"
   ]
  },
  {
   "cell_type": "markdown",
   "metadata": {},
   "source": [
    "#### __Question 1__ \n",
    "<br>\n",
    "Train a logistic regression classifier using gradient descent on the training data set LRTrain.csv. The first 30 columns are feature data, and the 31st column is the label of the observation (1 = cancerous, 0 = not cancerous). As a starting point, try using a step size of γ = 0.00001 and a maximum of T = 2000 iterations. You can also use a termination criterion related to the norm of the gradient (np.linalg.norm() may be useful). Experiment with different step sizes and termination criteria to try to obtain a good model fit."
   ]
  },
  {
   "cell_type": "code",
   "execution_count": 4,
   "metadata": {},
   "outputs": [],
   "source": [
    "# As per the assignment we are setting an epsilon - 1 and step size - 0.00001\n",
    "\n",
    "w3 = w2 = w1 = w #np.zeroes(d)\n",
    "\n",
    "#2000 iterations for the above mentioned values\n",
    "for iteration in range(0,2000,1):\n",
    "    w1 = w1 - 0.00001 * (grad(w1, x, y))\n",
    "    if np.linalg.norm(grad(w1, x, y)) <= 1:\n",
    "        w1 "
   ]
  },
  {
   "cell_type": "code",
   "execution_count": 5,
   "metadata": {},
   "outputs": [],
   "source": [
    "#epsilon - 0.05 and step size - 0.0002\n",
    "#2000 iterations for the above mentioned values\n",
    "for iteration in range(0,2000,1):\n",
    "    w2 = w2 - 0.0002 * (grad(w2, x, y))\n",
    "    if np.linalg.norm(grad(w2, x, y)) <= 0.05:\n",
    "        w2"
   ]
  },
  {
   "cell_type": "code",
   "execution_count": 6,
   "metadata": {},
   "outputs": [],
   "source": [
    "#epsilon - 0.025 and step size - 0.0003\n",
    "#2000 iterations for the above mentioned values\n",
    "for iteration in range(0,2000,1):\n",
    "    w3 = w3 - 0.0003 * (grad(w3, x, y))\n",
    "    if np.linalg.norm(grad(w3, x, y)) <= 0.025:\n",
    "        w3"
   ]
  },
  {
   "cell_type": "code",
   "execution_count": 7,
   "metadata": {},
   "outputs": [
    {
     "name": "stdout",
     "output_type": "stream",
     "text": [
      "First:  0.234\n",
      "--------------------------------------------------------------------------------\n",
      "Second:  2.09\n",
      "--------------------------------------------------------------------------------\n",
      "Third:  1.697\n",
      "--------------------------------------------------------------------------------\n"
     ]
    }
   ],
   "source": [
    "#Checking the goodness of fit\n",
    "print(\"First: \", round(fval(w1,x,y),3))\n",
    "print('-'*80)\n",
    "print(\"Second: \", round(fval(w2,x,y),3))\n",
    "print('-'*80)\n",
    "print(\"Third: \", round(fval(w3,x,y),3))\n",
    "print('-'*80)"
   ]
  },
  {
   "cell_type": "code",
   "execution_count": 8,
   "metadata": {},
   "outputs": [],
   "source": [
    "#We will take the w1 for the prediction"
   ]
  },
  {
   "cell_type": "markdown",
   "metadata": {},
   "source": [
    "#### __Question 2__ \n",
    "<br>\n",
    "Once you have trained your logistic regression classifier, compute the true positive rate (TPR), false positive rate (FPR), true negative rate (TNR), and false negative rate (FNR) on the test dataset LRTest.csv. Re-calculate these performance metrics for each value of the threshold parameter t in t ∈ {0, 0.1, . . . , 0.9, 1}"
   ]
  },
  {
   "cell_type": "code",
   "execution_count": 9,
   "metadata": {},
   "outputs": [],
   "source": [
    "#Defining predict function\n",
    "def predict(x, w, t):\n",
    "    pred_list = []\n",
    "    \n",
    "    for i in range(n_test):\n",
    "        y_pred = 1/(1+np.exp(np.dot(np.transpose(-w), x[i,:])))\n",
    "        \n",
    "        if y_pred > t:\n",
    "            pred_list.append(1)\n",
    "        \n",
    "        else:\n",
    "            pred_list.append(0)\n",
    "    return pred_list"
   ]
  },
  {
   "cell_type": "code",
   "execution_count": 10,
   "metadata": {},
   "outputs": [],
   "source": [
    "#Defining function for calculating performance metrics\n",
    "def performance_metrics(y_true, y_predicted):\n",
    "    TP = 0\n",
    "    FP = 0\n",
    "    TN = 0\n",
    "    FN = 0\n",
    "\n",
    "    for i in range(len(y_predicted)): \n",
    "        if y_true[i]==1  and y_predicted[i]==1:\n",
    "           TP += 1\n",
    "        if y_predicted[i]==1 and y_true[i]==0:\n",
    "           FP += 1\n",
    "        if y_true[i]==0 and y_predicted[i]==0:\n",
    "           TN += 1\n",
    "        if y_predicted[i]==0 and y_true[i]==1:\n",
    "           FN += 1\n",
    "        \n",
    "    TPR, FPR, TNR, FNR = round(TP/(TP+FN),2), round(FP/(TN+FP),2), round(TN/(TN+FP),2), round(FN/(TP+FN),2)\n",
    "    res = pd.DataFrame([TPR, FPR, TNR, FNR])\n",
    "    return res.transpose()"
   ]
  },
  {
   "cell_type": "code",
   "execution_count": 11,
   "metadata": {},
   "outputs": [],
   "source": [
    "#Final dataframe\n",
    "df_final = pd.DataFrame()\n",
    "\n",
    "for thres in range(len(thresholds)):\n",
    "    y_predicted = predict(x_test, w1, thresholds[thres])\n",
    "    y = performance_metrics(y_test,y_predicted)\n",
    "    df_final = df_final.append(y)\n",
    "    \n",
    "df_final.columns = [\"TPR\", \"FPR\",\"TNR\",\"FNR\"]\n",
    "df_final.index = thresholds\n",
    "df_final = df_final.rename_axis('Thresholds')"
   ]
  },
  {
   "cell_type": "code",
   "execution_count": 12,
   "metadata": {
    "scrolled": true
   },
   "outputs": [
    {
     "name": "stdout",
     "output_type": "stream",
     "text": [
      "             TPR   FPR   TNR   FNR\n",
      "Thresholds                        \n",
      "0.0         1.00  1.00  0.00  0.00\n",
      "0.1         0.98  0.58  0.42  0.02\n",
      "0.2         0.96  0.22  0.78  0.04\n",
      "0.3         0.91  0.11  0.89  0.09\n",
      "0.4         0.89  0.06  0.94  0.11\n",
      "0.5         0.86  0.04  0.96  0.14\n",
      "0.6         0.85  0.03  0.97  0.15\n",
      "0.7         0.79  0.01  0.99  0.21\n",
      "0.8         0.73  0.01  0.99  0.27\n",
      "0.9         0.71  0.00  1.00  0.29\n",
      "1.0         0.00  0.00  1.00  1.00\n"
     ]
    }
   ],
   "source": [
    "print(df_final)"
   ]
  },
  {
   "cell_type": "code",
   "execution_count": 13,
   "metadata": {},
   "outputs": [
    {
     "data": {
      "image/png": "[encoded data removed]",
      "text/plain": [
       "<Figure size 432x288 with 1 Axes>"
      ]
     },
     "metadata": {
      "needs_background": "light"
     },
     "output_type": "display_data"
    }
   ],
   "source": [
    "df_final.plot()\n",
    "plt.ylabel(\"Accuracy\")\n",
    "plt.title(\"Metrics Dataframe\")\n",
    "plt.show()"
   ]
  },
  {
   "cell_type": "code",
   "execution_count": 14,
   "metadata": {},
   "outputs": [],
   "source": [
    "df_final.to_csv(\"Performance_Metrics_Dataframe_Raffi Sahakyan.csv\")"
   ]
  }
 ],
 "metadata": {
  "kernelspec": {
   "display_name": "Python 3",
   "language": "python",
   "name": "python3"
  },
  "language_info": {
   "codemirror_mode": {
    "name": "ipython",
    "version": 3
   },
   "file_extension": ".py",
   "mimetype": "text/x-python",
   "name": "python",
   "nbconvert_exporter": "python",
   "pygments_lexer": "ipython3",
   "version": "3.6.9"
  }
 },
 "nbformat": 4,
 "nbformat_minor": 4
}
